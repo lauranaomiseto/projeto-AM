{
 "cells": [
  {
   "cell_type": "markdown",
   "metadata": {},
   "source": [
    "# <center> <img src=\"figs/LogoUFSCar.jpg\" alt=\"Logo UFScar\" width=\"110\" align=\"left\"/>  <br/> <center>Universidade Federal de São Carlos (UFSCar)<br/><font size=\"4\"> Departamento de Computação, campus Sorocaba</center></font>\n",
    "</p>\n",
    "\n",
    "<font size=\"4\"><center><b>Disciplina: Aprendizado de Máquina</b></center></font>\n",
    "  \n",
    "<font size=\"3\"><center>Prof. Dr. Tiago A. Almeida</center></font>\n",
    "\n",
    "## <center>Projeto Final</center>\n",
    "\n",
    "**Nome**: Beatriz Rogers Tripoli Barbosa\n",
    "\n",
    "**RA**: 792170 \n",
    "\n",
    "**Nome**: Laura Naomi Seto\n",
    "\n",
    "**RA**: 813210\n"
   ]
  },
  {
   "cell_type": "markdown",
   "metadata": {},
   "source": [
    "---\n",
    "### Análise exploratória\n",
    "\n",
    "Nesta seção, deve ser feita a leitura da base de dados e todas as análises necessárias para interpretar e analisar os dados, tais como:\n",
    "* Significado de cada atributo\n",
    "* Medidas descritivas\n",
    "* Gráficos"
   ]
  },
  {
   "cell_type": "code",
   "execution_count": 1,
   "metadata": {},
   "outputs": [
    {
     "name": "stdout",
     "output_type": "stream",
     "text": [
      "Bibliotecas carregadas com sucesso\n"
     ]
    }
   ],
   "source": [
    "# biblioteca usada para trabalhar com vetores e matrizes\n",
    "import numpy as np \n",
    "\n",
    "# biblioteca usada para trabalhar com dataframes e análise de dados\n",
    "import pandas as pd\n",
    "\n",
    "# bibliotecas usadas para geração de graficos\n",
    "import seaborn as sns\n",
    "import matplotlib.pyplot as plt\n",
    "\n",
    "print('Bibliotecas carregadas com sucesso')"
   ]
  },
  {
   "cell_type": "code",
   "execution_count": 3,
   "metadata": {},
   "outputs": [
    {
     "name": "stdout",
     "output_type": "stream",
     "text": [
      "Dados importados com sucesso!\n"
     ]
    }
   ],
   "source": [
    "# importa o arquivo e guarda em um dataframe do Pandas\n",
    "df_dataset = pd.read_csv( 'data/RHP_data.csv', sep=',', index_col=None) \n",
    "\n",
    "print('Dados importados com sucesso!')"
   ]
  },
  {
   "cell_type": "code",
   "execution_count": null,
   "metadata": {},
   "outputs": [],
   "source": [
    "# CÉLULA PARA ANÁLISE DOS ATRIBUTOS \n",
    "# checando valores possíveis para as colunas para análise dos atributos\n",
    "\n",
    "# display(df_dataset[\"IDADE\"].unique())\n",
    "\n",
    "# null_mask = df_dataset[\"IDADE\"].isnull()\n",
    "# display(df_dataset[pd.to_datetime(df_dataset['Atendimento'], errors='coerce').isna()])"
   ]
  },
  {
   "cell_type": "markdown",
   "metadata": {},
   "source": [
    "##### Análise dos atributos\n",
    "\n",
    "* **Id**: Identificação do registro.\n",
    "\n",
    "* **Peso**: Peso corporal do paciente [kg]\n",
    "    * valores faltantes\n",
    "\n",
    "* **Altura**: Altura do paciente [cm]\n",
    "    * valores fora do intervalo aceitável (0 é válido?)\n",
    "\n",
    "* **Índice de Massa Corporal** (IMC): $$\\frac{Peso}{Altura^2}$$    \n",
    "    * valores faltantes acarretados por: peso ou altura não registrados ou igual a 0\n",
    "\n",
    "* **Atendimento**: Data de atendimento [DD/MM/AA]\n",
    "    * valores inválidos\n",
    "\n",
    "* **Data de Nascimento** (DN): Data de nascimento [DD/MM/AA]\n",
    "    * valores faltantes\n",
    "    * valores inválidos\n",
    "\n",
    "* **Idade**: Idade no momento do atendimento [anos]\n",
    "    * valores não numéricos ('#VALUE!') acarretados por: atendimento e/ou data de nascimento inválidos \n",
    "    * valores fora do intervalo aceitável (idades negativas)\n",
    "    * valores faltantes acarretados por: data de nascimento não registrado\n",
    "    * valores aparentemente válidos mas atendimento e/ou data de nascimento inválidos\n",
    "\n",
    "* **Convênio**: Tipo de plano de saúde utilizado para o atendimento\n",
    "\n",
    "* **Pulsos**: Avaliação da presença e qualidade dos pulsos arteriais [normais, outro, amplos, femorais diminuidos, diminuídos]\n",
    "    * adotar formas canônicas para os valores possíveis\n",
    "\n",
    "* **PA Sistólica**: Valor mais alto registrado durante o batimento cardíaco [mmHg]\n",
    "\n",
    "* **PA Diastólica**: Valor mais baixo registrado entre os batimentos cardíacos [mmHg]\n",
    "\n",
    "* **Pressão de Pulso Arterial** (PPA): [não calculado, normal, pre-hipertensão pas, has-2 pas, pre-hipertensão pad, has-1 pas, has-2 pad, has-1 pad]\n",
    "    * valor inválido ('#VALUE!')\n",
    "\n",
    "* **B2**: Segundo som cardíaco [normal, desdob fixo, outro, hiperfonética, única]\n",
    "\n",
    "* **Sopro**: Sopro cardíaco [sistólico, ausente, contínuo, diastólico, 'sistolico e diastólico']\n",
    "    * adotar formas canônicas para os valores possíveis \n",
    "\n",
    "* **Frequência Cardíaca** (FC): Número de batimentos cardíacos por minuto [bpm]\n",
    "\n",
    "* **História da Doença Atual 1** (HDA 1): registro de um problema de saúde do paciente\n",
    "\n",
    "* **História da Doença Atual 2** (HDA2): registro de um problema de saúde do paciente\n",
    "\n",
    "* **Sexo**: Gênero biológico do paciente [masculino, feminino e indeterminado]\n",
    "    * adotar formas canônicas para os valores possíveis\n",
    "\n",
    "* **Motivo 1**: Principal motivo para o atendimento\n",
    "\n",
    "* **Motivo 2**: Motivo secundário para o atendimento\n",
    "\n",
    "##### Abordagens\n",
    "**Valores faltantes e inválidos** - analisar porcentagem de valores faltantes e natureza dos dados (numérico, categórico, temporais)\n",
    "- exclusão de linha (poucos faltantes)\n",
    "- exclusão de coluna (muitos faltantes)\n",
    "- substituição por média, mediana (melhor quando há outliers) ou moda (dados categóricos)\n",
    "- substituição por interpolação (adequada para séries temporais)\n",
    "\n",
    "**Duplicatas** (todos os valores de atributos iguais e mesma classificação) \n",
    "- exclusão de linha\n",
    "\n",
    "**Inconsistências** (todos os valores de atributos iguais e classificados diferentemente)\n",
    "- exclusão das linhas\n",
    "\n",
    "\n",
    "#### Exploração dos dados com estatística descritiva\n",
    "\n",
    "Resumo quantitativo das principais características de um conjunto de dados:\n",
    "* Frequência\n",
    "* Localização ou tendência central\n",
    "* Dispersão ou espalhamento\n",
    "* Distribuição ou formato\n",
    "\n",
    "Os três últimos são utilizados geralmente para valores numéricos.\n",
    "\n",
    "Para dados univariados: \n",
    "* Medidas de localidade: moda, média, mediana, média truncada, quartis, percentil (boxplot)\n",
    "* Medidas de espalhamento: intervalo, variância e descio padrão\n",
    "* Medidas de distribuição: obliquidade ou assimetria e curtose (histograma e gráfico pizza)\n",
    "\n",
    "Para dados multivariados:\n",
    "* Medidas de localidade: calculado para cada atributo separadamente\n",
    "* Medidas de espalhamento: calculado apra cada atributo separadamente + covariância e correlação (matriz de covariância ou correlação)"
   ]
  },
  {
   "cell_type": "code",
   "execution_count": null,
   "metadata": {},
   "outputs": [],
   "source": []
  },
  {
   "cell_type": "markdown",
   "metadata": {},
   "source": [
    "---\n",
    "### Pré-processamento\n",
    "\n",
    "Nesta seção, as funções da etapa de pré-processamento dos dados devem ser implementadas e aplicadas (se necessário)."
   ]
  },
  {
   "cell_type": "code",
   "execution_count": null,
   "metadata": {},
   "outputs": [],
   "source": []
  },
  {
   "cell_type": "markdown",
   "metadata": {},
   "source": [
    "---\n",
    "### Experimento\n",
    "\n",
    "Nesta seção, o experimento deve ser conduzido, utilizando os protocolos experimentais padrões e testando diferentes modelos."
   ]
  },
  {
   "cell_type": "code",
   "execution_count": null,
   "metadata": {},
   "outputs": [],
   "source": []
  },
  {
   "cell_type": "markdown",
   "metadata": {},
   "source": [
    "---\n",
    "### Análise dos Resultados\n",
    "\n",
    "Nesta seção, os resultados devem ser exibidos através de tabelas e gráficos, comparados e profundamente analisados."
   ]
  },
  {
   "cell_type": "code",
   "execution_count": null,
   "metadata": {},
   "outputs": [],
   "source": []
  }
 ],
 "metadata": {
  "kernelspec": {
   "display_name": "Python 3",
   "language": "python",
   "name": "python3"
  },
  "language_info": {
   "codemirror_mode": {
    "name": "ipython",
    "version": 3
   },
   "file_extension": ".py",
   "mimetype": "text/x-python",
   "name": "python",
   "nbconvert_exporter": "python",
   "pygments_lexer": "ipython3",
   "version": "3.12.5"
  }
 },
 "nbformat": 4,
 "nbformat_minor": 4
}
